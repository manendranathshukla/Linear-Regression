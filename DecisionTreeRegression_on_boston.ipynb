{
  "nbformat": 4,
  "nbformat_minor": 0,
  "metadata": {
    "colab": {
      "name": "DecisionTreeRegression_on_boston.ipynb",
      "version": "0.3.2",
      "provenance": [],
      "include_colab_link": true
    },
    "kernelspec": {
      "name": "python3",
      "display_name": "Python 3"
    }
  },
  "cells": [
    {
      "cell_type": "markdown",
      "metadata": {
        "id": "view-in-github",
        "colab_type": "text"
      },
      "source": [
        "<a href=\"https://colab.research.google.com/github/manendranathshukla/Linear-Regression/blob/master/DecisionTreeRegression_on_boston.ipynb\" target=\"_parent\"><img src=\"https://colab.research.google.com/assets/colab-badge.svg\" alt=\"Open In Colab\"/></a>"
      ]
    },
    {
      "cell_type": "code",
      "metadata": {
        "id": "vA5LOaTEGYix",
        "colab_type": "code",
        "colab": {}
      },
      "source": [
        "import pandas as pd \n",
        "import numpy as np\n",
        "from sklearn.datasets import load_boston\n"
      ],
      "execution_count": 0,
      "outputs": []
    },
    {
      "cell_type": "code",
      "metadata": {
        "id": "Qb5LXcJkanS7",
        "colab_type": "code",
        "colab": {}
      },
      "source": [
        "mydata=load_boston()"
      ],
      "execution_count": 0,
      "outputs": []
    },
    {
      "cell_type": "code",
      "metadata": {
        "id": "4U4wZ9cYa56_",
        "colab_type": "code",
        "colab": {}
      },
      "source": [
        "my_data=pd.DataFrame(mydata.data)"
      ],
      "execution_count": 0,
      "outputs": []
    },
    {
      "cell_type": "code",
      "metadata": {
        "id": "yrR5K3JdbDgw",
        "colab_type": "code",
        "colab": {
          "base_uri": "https://localhost:8080/",
          "height": 1000
        },
        "outputId": "e915338e-9008-4a76-f0dd-88faaa3a9d60"
      },
      "source": [
        "print(my_data)\n"
      ],
      "execution_count": 12,
      "outputs": [
        {
          "output_type": "stream",
          "text": [
            "           0     1      2    3      4   ...    8      9     10      11     12\n",
            "0     0.00632  18.0   2.31  0.0  0.538  ...   1.0  296.0  15.3  396.90   4.98\n",
            "1     0.02731   0.0   7.07  0.0  0.469  ...   2.0  242.0  17.8  396.90   9.14\n",
            "2     0.02729   0.0   7.07  0.0  0.469  ...   2.0  242.0  17.8  392.83   4.03\n",
            "3     0.03237   0.0   2.18  0.0  0.458  ...   3.0  222.0  18.7  394.63   2.94\n",
            "4     0.06905   0.0   2.18  0.0  0.458  ...   3.0  222.0  18.7  396.90   5.33\n",
            "5     0.02985   0.0   2.18  0.0  0.458  ...   3.0  222.0  18.7  394.12   5.21\n",
            "6     0.08829  12.5   7.87  0.0  0.524  ...   5.0  311.0  15.2  395.60  12.43\n",
            "7     0.14455  12.5   7.87  0.0  0.524  ...   5.0  311.0  15.2  396.90  19.15\n",
            "8     0.21124  12.5   7.87  0.0  0.524  ...   5.0  311.0  15.2  386.63  29.93\n",
            "9     0.17004  12.5   7.87  0.0  0.524  ...   5.0  311.0  15.2  386.71  17.10\n",
            "10    0.22489  12.5   7.87  0.0  0.524  ...   5.0  311.0  15.2  392.52  20.45\n",
            "11    0.11747  12.5   7.87  0.0  0.524  ...   5.0  311.0  15.2  396.90  13.27\n",
            "12    0.09378  12.5   7.87  0.0  0.524  ...   5.0  311.0  15.2  390.50  15.71\n",
            "13    0.62976   0.0   8.14  0.0  0.538  ...   4.0  307.0  21.0  396.90   8.26\n",
            "14    0.63796   0.0   8.14  0.0  0.538  ...   4.0  307.0  21.0  380.02  10.26\n",
            "15    0.62739   0.0   8.14  0.0  0.538  ...   4.0  307.0  21.0  395.62   8.47\n",
            "16    1.05393   0.0   8.14  0.0  0.538  ...   4.0  307.0  21.0  386.85   6.58\n",
            "17    0.78420   0.0   8.14  0.0  0.538  ...   4.0  307.0  21.0  386.75  14.67\n",
            "18    0.80271   0.0   8.14  0.0  0.538  ...   4.0  307.0  21.0  288.99  11.69\n",
            "19    0.72580   0.0   8.14  0.0  0.538  ...   4.0  307.0  21.0  390.95  11.28\n",
            "20    1.25179   0.0   8.14  0.0  0.538  ...   4.0  307.0  21.0  376.57  21.02\n",
            "21    0.85204   0.0   8.14  0.0  0.538  ...   4.0  307.0  21.0  392.53  13.83\n",
            "22    1.23247   0.0   8.14  0.0  0.538  ...   4.0  307.0  21.0  396.90  18.72\n",
            "23    0.98843   0.0   8.14  0.0  0.538  ...   4.0  307.0  21.0  394.54  19.88\n",
            "24    0.75026   0.0   8.14  0.0  0.538  ...   4.0  307.0  21.0  394.33  16.30\n",
            "25    0.84054   0.0   8.14  0.0  0.538  ...   4.0  307.0  21.0  303.42  16.51\n",
            "26    0.67191   0.0   8.14  0.0  0.538  ...   4.0  307.0  21.0  376.88  14.81\n",
            "27    0.95577   0.0   8.14  0.0  0.538  ...   4.0  307.0  21.0  306.38  17.28\n",
            "28    0.77299   0.0   8.14  0.0  0.538  ...   4.0  307.0  21.0  387.94  12.80\n",
            "29    1.00245   0.0   8.14  0.0  0.538  ...   4.0  307.0  21.0  380.23  11.98\n",
            "..        ...   ...    ...  ...    ...  ...   ...    ...   ...     ...    ...\n",
            "476   4.87141   0.0  18.10  0.0  0.614  ...  24.0  666.0  20.2  396.21  18.68\n",
            "477  15.02340   0.0  18.10  0.0  0.614  ...  24.0  666.0  20.2  349.48  24.91\n",
            "478  10.23300   0.0  18.10  0.0  0.614  ...  24.0  666.0  20.2  379.70  18.03\n",
            "479  14.33370   0.0  18.10  0.0  0.614  ...  24.0  666.0  20.2  383.32  13.11\n",
            "480   5.82401   0.0  18.10  0.0  0.532  ...  24.0  666.0  20.2  396.90  10.74\n",
            "481   5.70818   0.0  18.10  0.0  0.532  ...  24.0  666.0  20.2  393.07   7.74\n",
            "482   5.73116   0.0  18.10  0.0  0.532  ...  24.0  666.0  20.2  395.28   7.01\n",
            "483   2.81838   0.0  18.10  0.0  0.532  ...  24.0  666.0  20.2  392.92  10.42\n",
            "484   2.37857   0.0  18.10  0.0  0.583  ...  24.0  666.0  20.2  370.73  13.34\n",
            "485   3.67367   0.0  18.10  0.0  0.583  ...  24.0  666.0  20.2  388.62  10.58\n",
            "486   5.69175   0.0  18.10  0.0  0.583  ...  24.0  666.0  20.2  392.68  14.98\n",
            "487   4.83567   0.0  18.10  0.0  0.583  ...  24.0  666.0  20.2  388.22  11.45\n",
            "488   0.15086   0.0  27.74  0.0  0.609  ...   4.0  711.0  20.1  395.09  18.06\n",
            "489   0.18337   0.0  27.74  0.0  0.609  ...   4.0  711.0  20.1  344.05  23.97\n",
            "490   0.20746   0.0  27.74  0.0  0.609  ...   4.0  711.0  20.1  318.43  29.68\n",
            "491   0.10574   0.0  27.74  0.0  0.609  ...   4.0  711.0  20.1  390.11  18.07\n",
            "492   0.11132   0.0  27.74  0.0  0.609  ...   4.0  711.0  20.1  396.90  13.35\n",
            "493   0.17331   0.0   9.69  0.0  0.585  ...   6.0  391.0  19.2  396.90  12.01\n",
            "494   0.27957   0.0   9.69  0.0  0.585  ...   6.0  391.0  19.2  396.90  13.59\n",
            "495   0.17899   0.0   9.69  0.0  0.585  ...   6.0  391.0  19.2  393.29  17.60\n",
            "496   0.28960   0.0   9.69  0.0  0.585  ...   6.0  391.0  19.2  396.90  21.14\n",
            "497   0.26838   0.0   9.69  0.0  0.585  ...   6.0  391.0  19.2  396.90  14.10\n",
            "498   0.23912   0.0   9.69  0.0  0.585  ...   6.0  391.0  19.2  396.90  12.92\n",
            "499   0.17783   0.0   9.69  0.0  0.585  ...   6.0  391.0  19.2  395.77  15.10\n",
            "500   0.22438   0.0   9.69  0.0  0.585  ...   6.0  391.0  19.2  396.90  14.33\n",
            "501   0.06263   0.0  11.93  0.0  0.573  ...   1.0  273.0  21.0  391.99   9.67\n",
            "502   0.04527   0.0  11.93  0.0  0.573  ...   1.0  273.0  21.0  396.90   9.08\n",
            "503   0.06076   0.0  11.93  0.0  0.573  ...   1.0  273.0  21.0  396.90   5.64\n",
            "504   0.10959   0.0  11.93  0.0  0.573  ...   1.0  273.0  21.0  393.45   6.48\n",
            "505   0.04741   0.0  11.93  0.0  0.573  ...   1.0  273.0  21.0  396.90   7.88\n",
            "\n",
            "[506 rows x 13 columns]\n"
          ],
          "name": "stdout"
        }
      ]
    },
    {
      "cell_type": "code",
      "metadata": {
        "id": "QNV9hEcIbXeT",
        "colab_type": "code",
        "colab": {
          "base_uri": "https://localhost:8080/",
          "height": 173
        },
        "outputId": "4d4b7f0f-b4c3-4e17-9484-f3fe29e9b657"
      },
      "source": [
        "print(my_data.shape)\n",
        "print(my_data.head())\n"
      ],
      "execution_count": 16,
      "outputs": [
        {
          "output_type": "stream",
          "text": [
            "(506, 13)\n",
            "        0     1     2    3      4   ...   8      9     10      11    12\n",
            "0  0.00632  18.0  2.31  0.0  0.538  ...  1.0  296.0  15.3  396.90  4.98\n",
            "1  0.02731   0.0  7.07  0.0  0.469  ...  2.0  242.0  17.8  396.90  9.14\n",
            "2  0.02729   0.0  7.07  0.0  0.469  ...  2.0  242.0  17.8  392.83  4.03\n",
            "3  0.03237   0.0  2.18  0.0  0.458  ...  3.0  222.0  18.7  394.63  2.94\n",
            "4  0.06905   0.0  2.18  0.0  0.458  ...  3.0  222.0  18.7  396.90  5.33\n",
            "\n",
            "[5 rows x 13 columns]\n"
          ],
          "name": "stdout"
        }
      ]
    },
    {
      "cell_type": "code",
      "metadata": {
        "id": "AB4S0ofbbvOE",
        "colab_type": "code",
        "colab": {
          "base_uri": "https://localhost:8080/",
          "height": 260
        },
        "outputId": "da13d0d7-ad60-4b4b-b732-5720f0e0c2ea"
      },
      "source": [
        "print(my_data.describe())\n",
        "print(mydata.keys())\n",
        "print(mydata.feature_names)"
      ],
      "execution_count": 23,
      "outputs": [
        {
          "output_type": "stream",
          "text": [
            "               0           1           2   ...          10          11          12\n",
            "count  506.000000  506.000000  506.000000  ...  506.000000  506.000000  506.000000\n",
            "mean     3.613524   11.363636   11.136779  ...   18.455534  356.674032   12.653063\n",
            "std      8.601545   23.322453    6.860353  ...    2.164946   91.294864    7.141062\n",
            "min      0.006320    0.000000    0.460000  ...   12.600000    0.320000    1.730000\n",
            "25%      0.082045    0.000000    5.190000  ...   17.400000  375.377500    6.950000\n",
            "50%      0.256510    0.000000    9.690000  ...   19.050000  391.440000   11.360000\n",
            "75%      3.677083   12.500000   18.100000  ...   20.200000  396.225000   16.955000\n",
            "max     88.976200  100.000000   27.740000  ...   22.000000  396.900000   37.970000\n",
            "\n",
            "[8 rows x 13 columns]\n",
            "dict_keys(['data', 'target', 'feature_names', 'DESCR', 'filename'])\n",
            "['CRIM' 'ZN' 'INDUS' 'CHAS' 'NOX' 'RM' 'AGE' 'DIS' 'RAD' 'TAX' 'PTRATIO'\n",
            " 'B' 'LSTAT']\n"
          ],
          "name": "stdout"
        }
      ]
    },
    {
      "cell_type": "code",
      "metadata": {
        "id": "rkkh-VvedhLs",
        "colab_type": "code",
        "colab": {
          "base_uri": "https://localhost:8080/",
          "height": 903
        },
        "outputId": "0c8dbfed-5bda-483e-c26f-7aed5c79d4f0"
      },
      "source": [
        "print(mydata.DESCR)"
      ],
      "execution_count": 24,
      "outputs": [
        {
          "output_type": "stream",
          "text": [
            ".. _boston_dataset:\n",
            "\n",
            "Boston house prices dataset\n",
            "---------------------------\n",
            "\n",
            "**Data Set Characteristics:**  \n",
            "\n",
            "    :Number of Instances: 506 \n",
            "\n",
            "    :Number of Attributes: 13 numeric/categorical predictive. Median Value (attribute 14) is usually the target.\n",
            "\n",
            "    :Attribute Information (in order):\n",
            "        - CRIM     per capita crime rate by town\n",
            "        - ZN       proportion of residential land zoned for lots over 25,000 sq.ft.\n",
            "        - INDUS    proportion of non-retail business acres per town\n",
            "        - CHAS     Charles River dummy variable (= 1 if tract bounds river; 0 otherwise)\n",
            "        - NOX      nitric oxides concentration (parts per 10 million)\n",
            "        - RM       average number of rooms per dwelling\n",
            "        - AGE      proportion of owner-occupied units built prior to 1940\n",
            "        - DIS      weighted distances to five Boston employment centres\n",
            "        - RAD      index of accessibility to radial highways\n",
            "        - TAX      full-value property-tax rate per $10,000\n",
            "        - PTRATIO  pupil-teacher ratio by town\n",
            "        - B        1000(Bk - 0.63)^2 where Bk is the proportion of blacks by town\n",
            "        - LSTAT    % lower status of the population\n",
            "        - MEDV     Median value of owner-occupied homes in $1000's\n",
            "\n",
            "    :Missing Attribute Values: None\n",
            "\n",
            "    :Creator: Harrison, D. and Rubinfeld, D.L.\n",
            "\n",
            "This is a copy of UCI ML housing dataset.\n",
            "https://archive.ics.uci.edu/ml/machine-learning-databases/housing/\n",
            "\n",
            "\n",
            "This dataset was taken from the StatLib library which is maintained at Carnegie Mellon University.\n",
            "\n",
            "The Boston house-price data of Harrison, D. and Rubinfeld, D.L. 'Hedonic\n",
            "prices and the demand for clean air', J. Environ. Economics & Management,\n",
            "vol.5, 81-102, 1978.   Used in Belsley, Kuh & Welsch, 'Regression diagnostics\n",
            "...', Wiley, 1980.   N.B. Various transformations are used in the table on\n",
            "pages 244-261 of the latter.\n",
            "\n",
            "The Boston house-price data has been used in many machine learning papers that address regression\n",
            "problems.   \n",
            "     \n",
            ".. topic:: References\n",
            "\n",
            "   - Belsley, Kuh & Welsch, 'Regression diagnostics: Identifying Influential Data and Sources of Collinearity', Wiley, 1980. 244-261.\n",
            "   - Quinlan,R. (1993). Combining Instance-Based and Model-Based Learning. In Proceedings on the Tenth International Conference of Machine Learning, 236-243, University of Massachusetts, Amherst. Morgan Kaufmann.\n",
            "\n"
          ],
          "name": "stdout"
        }
      ]
    },
    {
      "cell_type": "code",
      "metadata": {
        "id": "ZaHbLdYWd-8v",
        "colab_type": "code",
        "colab": {
          "base_uri": "https://localhost:8080/",
          "height": 156
        },
        "outputId": "811cdb6a-e090-4a23-d7bf-a9e60733d453"
      },
      "source": [
        "mydata_cols=pd.DataFrame(mydata.data)\n",
        "\n",
        "mydata_cols.columns=mydata.feature_names\n",
        "print(mydata_cols.head())"
      ],
      "execution_count": 31,
      "outputs": [
        {
          "output_type": "stream",
          "text": [
            "      CRIM    ZN  INDUS  CHAS    NOX  ...  RAD    TAX  PTRATIO       B  LSTAT\n",
            "0  0.00632  18.0   2.31   0.0  0.538  ...  1.0  296.0     15.3  396.90   4.98\n",
            "1  0.02731   0.0   7.07   0.0  0.469  ...  2.0  242.0     17.8  396.90   9.14\n",
            "2  0.02729   0.0   7.07   0.0  0.469  ...  2.0  242.0     17.8  392.83   4.03\n",
            "3  0.03237   0.0   2.18   0.0  0.458  ...  3.0  222.0     18.7  394.63   2.94\n",
            "4  0.06905   0.0   2.18   0.0  0.458  ...  3.0  222.0     18.7  396.90   5.33\n",
            "\n",
            "[5 rows x 13 columns]\n"
          ],
          "name": "stdout"
        }
      ]
    },
    {
      "cell_type": "code",
      "metadata": {
        "id": "ajmRelvrfPC9",
        "colab_type": "code",
        "colab": {
          "base_uri": "https://localhost:8080/",
          "height": 173
        },
        "outputId": "3bc085e3-9bf1-4a09-ee79-fb2613d182fb"
      },
      "source": [
        "print(mydata.target.shape)\n",
        "mydata_cols[\"PRICE\"]=mydata.target\n",
        "print(mydata_cols.head())"
      ],
      "execution_count": 33,
      "outputs": [
        {
          "output_type": "stream",
          "text": [
            "(506,)\n",
            "      CRIM    ZN  INDUS  CHAS    NOX  ...    TAX  PTRATIO       B  LSTAT  PRICE\n",
            "0  0.00632  18.0   2.31   0.0  0.538  ...  296.0     15.3  396.90   4.98   24.0\n",
            "1  0.02731   0.0   7.07   0.0  0.469  ...  242.0     17.8  396.90   9.14   21.6\n",
            "2  0.02729   0.0   7.07   0.0  0.469  ...  242.0     17.8  392.83   4.03   34.7\n",
            "3  0.03237   0.0   2.18   0.0  0.458  ...  222.0     18.7  394.63   2.94   33.4\n",
            "4  0.06905   0.0   2.18   0.0  0.458  ...  222.0     18.7  396.90   5.33   36.2\n",
            "\n",
            "[5 rows x 14 columns]\n"
          ],
          "name": "stdout"
        }
      ]
    },
    {
      "cell_type": "code",
      "metadata": {
        "id": "UKvYvQAMfrCy",
        "colab_type": "code",
        "colab": {}
      },
      "source": [
        "y=mydata.target\n",
        "X=my_data"
      ],
      "execution_count": 0,
      "outputs": []
    },
    {
      "cell_type": "code",
      "metadata": {
        "id": "DPDNl5QdhIkD",
        "colab_type": "code",
        "colab": {
          "base_uri": "https://localhost:8080/",
          "height": 52
        },
        "outputId": "d0d58ff6-6b83-4d5e-b643-7fc0f7a9c09b"
      },
      "source": [
        "print(y.shape)\n",
        "print(X.shape)"
      ],
      "execution_count": 51,
      "outputs": [
        {
          "output_type": "stream",
          "text": [
            "(506,)\n",
            "(506, 13)\n"
          ],
          "name": "stdout"
        }
      ]
    },
    {
      "cell_type": "code",
      "metadata": {
        "id": "LtZu0vPvh4ur",
        "colab_type": "code",
        "colab": {}
      },
      "source": [
        "from sklearn.tree import DecisionTreeRegressor\n",
        "\n",
        "my_model=DecisionTreeRegressor(random_state=1)\n"
      ],
      "execution_count": 0,
      "outputs": []
    },
    {
      "cell_type": "code",
      "metadata": {
        "id": "EfVfWONKiGSP",
        "colab_type": "code",
        "colab": {
          "base_uri": "https://localhost:8080/",
          "height": 104
        },
        "outputId": "055bb794-11fe-4eae-b950-dcb8e42f6bd3"
      },
      "source": [
        "my_model.fit(X,y)"
      ],
      "execution_count": 56,
      "outputs": [
        {
          "output_type": "execute_result",
          "data": {
            "text/plain": [
              "DecisionTreeRegressor(criterion='mse', max_depth=None, max_features=None,\n",
              "                      max_leaf_nodes=None, min_impurity_decrease=0.0,\n",
              "                      min_impurity_split=None, min_samples_leaf=1,\n",
              "                      min_samples_split=2, min_weight_fraction_leaf=0.0,\n",
              "                      presort=False, random_state=1, splitter='best')"
            ]
          },
          "metadata": {
            "tags": []
          },
          "execution_count": 56
        }
      ]
    },
    {
      "cell_type": "code",
      "metadata": {
        "id": "URa6mk3PifXW",
        "colab_type": "code",
        "colab": {
          "base_uri": "https://localhost:8080/",
          "height": 34
        },
        "outputId": "45d90aa4-6ffa-4bc1-9f75-4a5cb38e3f61"
      },
      "source": [
        "print(my_model.predict(X.head()))\n",
        "y_pred=my_model.predict(X)"
      ],
      "execution_count": 58,
      "outputs": [
        {
          "output_type": "stream",
          "text": [
            "[24.  21.6 34.7 33.4 36.2]\n"
          ],
          "name": "stdout"
        }
      ]
    },
    {
      "cell_type": "code",
      "metadata": {
        "id": "1UxV4ACIiya5",
        "colab_type": "code",
        "colab": {
          "base_uri": "https://localhost:8080/",
          "height": 283
        },
        "outputId": "a305085a-b6bd-43ec-ed9b-021bfeb09a43"
      },
      "source": [
        "import matplotlib.pyplot as plt\n",
        "plt.scatter(y,y_pred)\n",
        "plt.xlabel(\"True\")\n",
        "plt.ylabel(\"Predicted\")\n",
        "plt.show()"
      ],
      "execution_count": 59,
      "outputs": [
        {
          "output_type": "display_data",
          "data": {
            "image/png": "[encoded data removed]",
            "text/plain": [
              "<Figure size 432x288 with 1 Axes>"
            ]
          },
          "metadata": {
            "tags": []
          }
        }
      ]
    },
    {
      "cell_type": "code",
      "metadata": {
        "id": "05Vq7CLPlBxV",
        "colab_type": "code",
        "colab": {
          "base_uri": "https://localhost:8080/",
          "height": 34
        },
        "outputId": "7290ef82-fb64-43ab-b17c-8ab77b26fff5"
      },
      "source": [
        "import sklearn\n",
        "mse=sklearn.metrics.mean_squared_error(y,y_pred)\n",
        "print(mse)"
      ],
      "execution_count": 66,
      "outputs": [
        {
          "output_type": "stream",
          "text": [
            "0.0\n"
          ],
          "name": "stdout"
        }
      ]
    },
    {
      "cell_type": "code",
      "metadata": {
        "id": "s4HwcOtNjp8K",
        "colab_type": "code",
        "colab": {}
      },
      "source": [
        "from sklearn.linear_model import LinearRegression\n",
        "my_linear_model=LinearRegression()\n"
      ],
      "execution_count": 0,
      "outputs": []
    },
    {
      "cell_type": "code",
      "metadata": {
        "id": "1loVQqtvj7w5",
        "colab_type": "code",
        "colab": {
          "base_uri": "https://localhost:8080/",
          "height": 34
        },
        "outputId": "66e801d6-e322-40ea-84da-51ac4536ebf2"
      },
      "source": [
        "my_linear_model.fit(X,y)\n"
      ],
      "execution_count": 62,
      "outputs": [
        {
          "output_type": "execute_result",
          "data": {
            "text/plain": [
              "LinearRegression(copy_X=True, fit_intercept=True, n_jobs=None, normalize=False)"
            ]
          },
          "metadata": {
            "tags": []
          },
          "execution_count": 62
        }
      ]
    },
    {
      "cell_type": "code",
      "metadata": {
        "id": "fNChvUhSkP8q",
        "colab_type": "code",
        "colab": {
          "base_uri": "https://localhost:8080/",
          "height": 34
        },
        "outputId": "d6761cb0-f2f9-44a2-fdf5-e1e410e275cb"
      },
      "source": [
        "y_predicted=my_linear_model.predict(X)\n",
        "print(my_linear_model.predict(X.head()))"
      ],
      "execution_count": 63,
      "outputs": [
        {
          "output_type": "stream",
          "text": [
            "[30.00384338 25.02556238 30.56759672 28.60703649 27.94352423]\n"
          ],
          "name": "stdout"
        }
      ]
    },
    {
      "cell_type": "code",
      "metadata": {
        "id": "V-J3PCJukj63",
        "colab_type": "code",
        "colab": {
          "base_uri": "https://localhost:8080/",
          "height": 283
        },
        "outputId": "3b386ffa-4fa2-4300-c8ca-56ac95de41bf"
      },
      "source": [
        "plt.scatter(y,y_predicted)\n",
        "plt.xlabel(\"True\")\n",
        "plt.ylabel(\"Predicted\")\n",
        "plt.show()"
      ],
      "execution_count": 64,
      "outputs": [
        {
          "output_type": "display_data",
          "data": {
            "image/png": "[encoded data removed]",
            "text/plain": [
              "<Figure size 432x288 with 1 Axes>"
            ]
          },
          "metadata": {
            "tags": []
          }
        }
      ]
    },
    {
      "cell_type": "code",
      "metadata": {
        "id": "pvzCtfB6lkTh",
        "colab_type": "code",
        "colab": {
          "base_uri": "https://localhost:8080/",
          "height": 34
        },
        "outputId": "d6f758e7-1b3c-4eee-d357-975018cbe1ec"
      },
      "source": [
        "import sklearn\n",
        "mse=sklearn.metrics.mean_squared_error(y,y_predicted)\n",
        "print(mse)"
      ],
      "execution_count": 68,
      "outputs": [
        {
          "output_type": "stream",
          "text": [
            "21.894831181729202\n"
          ],
          "name": "stdout"
        }
      ]
    }
  ]
}