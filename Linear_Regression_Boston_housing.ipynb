{
  "nbformat": 4,
  "nbformat_minor": 0,
  "metadata": {
    "colab": {
      "name": "Linear Regression_Boston_housing",
      "version": "0.3.2",
      "provenance": [],
      "include_colab_link": true
    },
    "kernelspec": {
      "name": "python3",
      "display_name": "Python 3"
    }
  },
  "cells": [
    {
      "cell_type": "markdown",
      "metadata": {
        "id": "view-in-github",
        "colab_type": "text"
      },
      "source": [
        "<a href=\"https://colab.research.google.com/github/manendranathshukla/Linear-Regression/blob/master/Linear_Regression_Boston_housing.ipynb\" target=\"_parent\"><img src=\"https://colab.research.google.com/assets/colab-badge.svg\" alt=\"Open In Colab\"/></a>"
      ]
    },
    {
      "cell_type": "code",
      "metadata": {
        "id": "yRA6DagHJ7pc",
        "colab_type": "code",
        "colab": {}
      },
      "source": [
        "import pandas as pd\n",
        "import numpy as np\n",
        "import sklearn\n",
        "from sklearn.datasets import load_boston\n",
        "import matplotlib.pyplot as plt\n",
        "\n"
      ],
      "execution_count": 0,
      "outputs": []
    },
    {
      "cell_type": "code",
      "metadata": {
        "id": "KNAuEkXoLVzw",
        "colab_type": "code",
        "colab": {}
      },
      "source": [
        "boston=load_boston()"
      ],
      "execution_count": 0,
      "outputs": []
    },
    {
      "cell_type": "code",
      "metadata": {
        "id": "UuM-QlVqLbfV",
        "colab_type": "code",
        "colab": {}
      },
      "source": [
        "bos=pd.DataFrame(boston.data)"
      ],
      "execution_count": 0,
      "outputs": []
    },
    {
      "cell_type": "code",
      "metadata": {
        "id": "b0Q8bPIDLknI",
        "colab_type": "code",
        "outputId": "2b501318-6a64-44bf-e56c-e7464b08b01c",
        "colab": {
          "base_uri": "https://localhost:8080/",
          "height": 156
        }
      },
      "source": [
        "print(bos.head(5))"
      ],
      "execution_count": 0,
      "outputs": [
        {
          "output_type": "stream",
          "text": [
            "        0     1     2    3      4   ...   8      9     10      11    12\n",
            "0  0.00632  18.0  2.31  0.0  0.538  ...  1.0  296.0  15.3  396.90  4.98\n",
            "1  0.02731   0.0  7.07  0.0  0.469  ...  2.0  242.0  17.8  396.90  9.14\n",
            "2  0.02729   0.0  7.07  0.0  0.469  ...  2.0  242.0  17.8  392.83  4.03\n",
            "3  0.03237   0.0  2.18  0.0  0.458  ...  3.0  222.0  18.7  394.63  2.94\n",
            "4  0.06905   0.0  2.18  0.0  0.458  ...  3.0  222.0  18.7  396.90  5.33\n",
            "\n",
            "[5 rows x 13 columns]\n"
          ],
          "name": "stdout"
        }
      ]
    },
    {
      "cell_type": "code",
      "metadata": {
        "id": "of_-nGu9M56I",
        "colab_type": "code",
        "colab": {}
      },
      "source": [
        "bos.columns=boston.feature_names\n"
      ],
      "execution_count": 0,
      "outputs": []
    },
    {
      "cell_type": "code",
      "metadata": {
        "id": "TLP27vXDNS1P",
        "colab_type": "code",
        "outputId": "c403f11b-71e1-475c-a94a-faad9b4ca5a1",
        "colab": {
          "base_uri": "https://localhost:8080/",
          "height": 52
        }
      },
      "source": [
        "boston.feature_names"
      ],
      "execution_count": 0,
      "outputs": [
        {
          "output_type": "execute_result",
          "data": {
            "text/plain": [
              "array(['CRIM', 'ZN', 'INDUS', 'CHAS', 'NOX', 'RM', 'AGE', 'DIS', 'RAD',\n",
              "       'TAX', 'PTRATIO', 'B', 'LSTAT'], dtype='<U7')"
            ]
          },
          "metadata": {
            "tags": []
          },
          "execution_count": 9
        }
      ]
    },
    {
      "cell_type": "code",
      "metadata": {
        "id": "hIhHwSCkNhZ5",
        "colab_type": "code",
        "colab": {}
      },
      "source": [
        "bos['PRICE']=boston.target\n",
        "Y=bos['PRICE']\n",
        "x=bos.drop('PRICE',axis=1)"
      ],
      "execution_count": 0,
      "outputs": []
    },
    {
      "cell_type": "code",
      "metadata": {
        "id": "tAwan5j-OE7o",
        "colab_type": "code",
        "outputId": "b68a0dc2-7f97-4586-e9a9-fb3aafb5369a",
        "colab": {
          "base_uri": "https://localhost:8080/",
          "height": 260
        }
      },
      "source": [
        "print(x.head())\n",
        "print(Y.head())"
      ],
      "execution_count": 0,
      "outputs": [
        {
          "output_type": "stream",
          "text": [
            "      CRIM    ZN  INDUS  CHAS    NOX  ...  RAD    TAX  PTRATIO       B  LSTAT\n",
            "0  0.00632  18.0   2.31   0.0  0.538  ...  1.0  296.0     15.3  396.90   4.98\n",
            "1  0.02731   0.0   7.07   0.0  0.469  ...  2.0  242.0     17.8  396.90   9.14\n",
            "2  0.02729   0.0   7.07   0.0  0.469  ...  2.0  242.0     17.8  392.83   4.03\n",
            "3  0.03237   0.0   2.18   0.0  0.458  ...  3.0  222.0     18.7  394.63   2.94\n",
            "4  0.06905   0.0   2.18   0.0  0.458  ...  3.0  222.0     18.7  396.90   5.33\n",
            "\n",
            "[5 rows x 13 columns]\n",
            "0    24.0\n",
            "1    21.6\n",
            "2    34.7\n",
            "3    33.4\n",
            "4    36.2\n",
            "Name: PRICE, dtype: float64\n"
          ],
          "name": "stdout"
        }
      ]
    },
    {
      "cell_type": "code",
      "metadata": {
        "id": "TrXRPlZiPNtX",
        "colab_type": "code",
        "colab": {}
      },
      "source": [
        "from sklearn.linear_model import LinearRegression\n",
        "x_train,x_test,Y_train,Y_test=sklearn.model_selection.train_test_split(x,Y,test_size=0.33,random_state=5)"
      ],
      "execution_count": 0,
      "outputs": []
    },
    {
      "cell_type": "code",
      "metadata": {
        "id": "rnVKj6asP1It",
        "colab_type": "code",
        "outputId": "4902c5d3-41df-4658-bf76-ba35a8fa3ef3",
        "colab": {
          "base_uri": "https://localhost:8080/",
          "height": 86
        }
      },
      "source": [
        "print(x_train.shape)\n",
        "print(x_test.shape)\n",
        "print(Y_train.shape)\n",
        "print(Y_test.shape)"
      ],
      "execution_count": 0,
      "outputs": [
        {
          "output_type": "stream",
          "text": [
            "(339, 13)\n",
            "(167, 13)\n",
            "(339,)\n",
            "(167,)\n"
          ],
          "name": "stdout"
        }
      ]
    },
    {
      "cell_type": "code",
      "metadata": {
        "id": "oMcF74MhQWTm",
        "colab_type": "code",
        "outputId": "2af491b1-7d0c-46fb-a0b3-2a9482af14da",
        "colab": {
          "base_uri": "https://localhost:8080/",
          "height": 34
        }
      },
      "source": [
        "lm=LinearRegression()\n",
        "lm.fit(x_train,Y_train)"
      ],
      "execution_count": 0,
      "outputs": [
        {
          "output_type": "execute_result",
          "data": {
            "text/plain": [
              "LinearRegression(copy_X=True, fit_intercept=True, n_jobs=None, normalize=False)"
            ]
          },
          "metadata": {
            "tags": []
          },
          "execution_count": 16
        }
      ]
    },
    {
      "cell_type": "code",
      "metadata": {
        "id": "htl-FeOXQ9WK",
        "colab_type": "code",
        "colab": {}
      },
      "source": [
        "Y_train_pred=lm.predict(x_train)"
      ],
      "execution_count": 0,
      "outputs": []
    },
    {
      "cell_type": "code",
      "metadata": {
        "id": "MVeAbXV9RLW9",
        "colab_type": "code",
        "colab": {}
      },
      "source": [
        "Y_test_pred=lm.predict(x_test)"
      ],
      "execution_count": 0,
      "outputs": []
    },
    {
      "cell_type": "code",
      "metadata": {
        "id": "hlz3KCFpRSAI",
        "colab_type": "code",
        "outputId": "ead76dcb-7ac5-408c-e4f9-d24cad5e6282",
        "colab": {
          "base_uri": "https://localhost:8080/",
          "height": 1000
        }
      },
      "source": [
        "df=pd.DataFrame(Y_test_pred,Y_test)\n",
        "print(df)"
      ],
      "execution_count": 0,
      "outputs": [
        {
          "output_type": "stream",
          "text": [
            "               0\n",
            "PRICE           \n",
            "37.6   37.467236\n",
            "27.9   31.391547\n",
            "22.6   27.120196\n",
            "13.8    6.468433\n",
            "35.2   33.629667\n",
            "10.4    5.670680\n",
            "23.9   27.039467\n",
            "29.0   29.927047\n",
            "22.8   26.356613\n",
            "23.2   22.452460\n",
            "33.2   32.205044\n",
            "19.0   21.786417\n",
            "20.3   23.411384\n",
            "36.1   33.608944\n",
            "24.4   28.286195\n",
            "17.2   15.138591\n",
            "17.9    0.300873\n",
            "19.6   18.718504\n",
            "19.7   14.470671\n",
            "15.0   11.108236\n",
            "8.1     2.694942\n",
            "23.0   19.216937\n",
            "44.8   38.411593\n",
            "23.1   24.369364\n",
            "32.2   31.614934\n",
            "10.8   11.422104\n",
            "23.1   24.928622\n",
            "21.2   23.311780\n",
            "22.2   22.776408\n",
            "24.1   20.650812\n",
            "...          ...\n",
            "10.5    5.626367\n",
            "22.2   24.000463\n",
            "30.5   30.371189\n",
            "19.4   23.011267\n",
            "15.6   18.291045\n",
            "20.2   16.194709\n",
            "19.3   21.608467\n",
            "34.6   34.716659\n",
            "50.0   23.405061\n",
            "24.0   30.137479\n",
            "18.7   18.095173\n",
            "19.8   22.168443\n",
            "22.5   29.092256\n",
            "13.3   13.361467\n",
            "50.0   31.860890\n",
            "11.8   11.600555\n",
            "11.0   13.917615\n",
            "23.7   26.523144\n",
            "35.4   31.394812\n",
            "15.2   10.629138\n",
            "24.4   24.686992\n",
            "33.4   28.956509\n",
            "31.6   32.317583\n",
            "13.4   15.871136\n",
            "34.9   29.943357\n",
            "14.4    9.718369\n",
            "35.4   34.705200\n",
            "25.3   25.704102\n",
            "18.3   20.154309\n",
            "16.6   15.394658\n",
            "\n",
            "[167 rows x 1 columns]\n"
          ],
          "name": "stdout"
        }
      ]
    },
    {
      "cell_type": "code",
      "metadata": {
        "id": "q3NuSvZNSn_j",
        "colab_type": "code",
        "outputId": "f4e5ad76-f6a5-4e1c-bbf5-68768d944302",
        "colab": {
          "base_uri": "https://localhost:8080/",
          "height": 34
        }
      },
      "source": [
        "from sklearn.metrics import mean_squared_error\n",
        "mse=mean_squared_error(Y_test,Y_test_pred)\n",
        "print(mse)"
      ],
      "execution_count": 0,
      "outputs": [
        {
          "output_type": "stream",
          "text": [
            "28.530458765974597\n"
          ],
          "name": "stdout"
        }
      ]
    },
    {
      "cell_type": "code",
      "metadata": {
        "id": "gUIBEIRWTA40",
        "colab_type": "code",
        "outputId": "230273a8-537a-4221-df72-ac254fd8823d",
        "colab": {
          "base_uri": "https://localhost:8080/",
          "height": 283
        }
      },
      "source": [
        "fig,ax=plt.subplots()\n",
        "ax.scatter(Y_test,Y_test_pred)\n",
        "ax.plot([Y_test.min(),Y_test.max()],[Y_test.min(),Y_test.max()],'k--',lw=3)\n",
        "ax.set_xlabel(\"Measured\")\n",
        "ax.set_ylabel(\"Predicted\")\n",
        "plt.show()"
      ],
      "execution_count": 0,
      "outputs": [
        {
          "output_type": "display_data",
          "data": {
            "image/png": "[encoded data removed]",
            "text/plain": [
              "<Figure size 432x288 with 1 Axes>"
            ]
          },
          "metadata": {
            "tags": []
          }
        }
      ]
    },
    {
      "cell_type": "code",
      "metadata": {
        "id": "KGky2qWdRpBh",
        "colab_type": "code",
        "colab": {}
      },
      "source": [
        ""
      ],
      "execution_count": 0,
      "outputs": []
    }
  ]
}